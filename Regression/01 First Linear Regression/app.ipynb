{
 "cells": [
  {
   "cell_type": "markdown",
   "id": "c2bdcdf0-28a0-452e-ade9-7b8b024c4997",
   "metadata": {},
   "source": [
    "# The Workflow of a Machine Learning Engineer: a Very Simple Machine Learning Project\n",
    "In this project, I try to go through and simplify the workflow of a machine learning engineer or a data scientist in general. It's like a simplification of the daily life of a data scientist."
   ]
  },
  {
   "cell_type": "code",
   "execution_count": 1,
   "id": "9a09971b-1722-40aa-8086-901074ca4030",
   "metadata": {},
   "outputs": [],
   "source": [
    "# all the necessary imports\n",
    "import pandas as pd\n",
    "import numpy as np\n",
    "from sklearn.model_selection import train_test_split\n",
    "from sklearn.linear_model import LinearRegression\n",
    "import matplotlib.pyplot as plt\n",
    "import pickle\n",
    "\n",
    "# choosing a style for our graphs. Nothing fancy\n",
    "from matplotlib import style\n",
    "style.use('ggplot')"
   ]
  },
  {
   "cell_type": "markdown",
   "id": "2363634b-53e9-4a88-944c-f6e786080202",
   "metadata": {},
   "source": [
    "## Data Analysis\n",
    "\n",
    "Machine learning has to do with machines learning from data and by so doing, becoming 'smart'.\n",
    "\n",
    "Let's load the data and try and understand it"
   ]
  },
  {
   "cell_type": "code",
   "execution_count": 2,
   "id": "c3084356-3c77-4fc6-8be5-bfc2fe3e18ca",
   "metadata": {},
   "outputs": [
    {
     "data": {
      "text/html": [
       "<div>\n",
       "<style scoped>\n",
       "    .dataframe tbody tr th:only-of-type {\n",
       "        vertical-align: middle;\n",
       "    }\n",
       "\n",
       "    .dataframe tbody tr th {\n",
       "        vertical-align: top;\n",
       "    }\n",
       "\n",
       "    .dataframe thead th {\n",
       "        text-align: right;\n",
       "    }\n",
       "</style>\n",
       "<table border=\"1\" class=\"dataframe\">\n",
       "  <thead>\n",
       "    <tr style=\"text-align: right;\">\n",
       "      <th></th>\n",
       "      <th>A</th>\n",
       "      <th>B</th>\n",
       "      <th>C</th>\n",
       "    </tr>\n",
       "  </thead>\n",
       "  <tbody>\n",
       "    <tr>\n",
       "      <th>0</th>\n",
       "      <td>2</td>\n",
       "      <td>3</td>\n",
       "      <td>8.5</td>\n",
       "    </tr>\n",
       "    <tr>\n",
       "      <th>1</th>\n",
       "      <td>1</td>\n",
       "      <td>2</td>\n",
       "      <td>5.5</td>\n",
       "    </tr>\n",
       "    <tr>\n",
       "      <th>2</th>\n",
       "      <td>4</td>\n",
       "      <td>1</td>\n",
       "      <td>10.5</td>\n",
       "    </tr>\n",
       "    <tr>\n",
       "      <th>3</th>\n",
       "      <td>3</td>\n",
       "      <td>2</td>\n",
       "      <td>9.5</td>\n",
       "    </tr>\n",
       "    <tr>\n",
       "      <th>4</th>\n",
       "      <td>2</td>\n",
       "      <td>1</td>\n",
       "      <td>6.5</td>\n",
       "    </tr>\n",
       "  </tbody>\n",
       "</table>\n",
       "</div>"
      ],
      "text/plain": [
       "   A  B     C\n",
       "0  2  3   8.5\n",
       "1  1  2   5.5\n",
       "2  4  1  10.5\n",
       "3  3  2   9.5\n",
       "4  2  1   6.5"
      ]
     },
     "execution_count": 2,
     "metadata": {},
     "output_type": "execute_result"
    }
   ],
   "source": [
    "# loading data into python\n",
    "df = pd.read_csv('data.csv')\n",
    "df.head()"
   ]
  },
  {
   "cell_type": "markdown",
   "id": "37584798-83dc-402d-9ac6-c02f33e46033",
   "metadata": {},
   "source": [
    "### Label?\n",
    "This is a supervised learning problem. As such, we have to define our label. More like: what do we want to predict in the future?\n",
    "\n",
    "### Features\n",
    "The features also have to be defined. A feature in this case is what we would use to predict the label. \n",
    "\n",
    "Basically, a relationship will be found between the features and the labels such than, in the future, when the features are given, the machine can predict the label based on the current data. (That's machine learning after all, right?)\n",
    "\n",
    "In this project, we will define our label as the column labelled 'C' and our features will be columns 'A' and 'B' "
   ]
  },
  {
   "cell_type": "code",
   "execution_count": 3,
   "id": "393325eb-1e09-49b7-8c21-27e2f8d69257",
   "metadata": {},
   "outputs": [],
   "source": [
    "# what is our label?\n",
    "label = \"C\"\n",
    "y = np.array(df[label])\n",
    "\n",
    "# what are the features?\n",
    "X = np.array(df.drop('C', axis=1))\n",
    "\n",
    "# PS: We usually represent our features with a capital X and our label with a small y"
   ]
  },
  {
   "cell_type": "markdown",
   "id": "c0e7725e-8742-4d42-8a9d-a483c2b02740",
   "metadata": {},
   "source": [
    "### What's the relationship between the label and the features?\n",
    "Here, we try to find the correlation between the features and the Label. This is to get an insight of what sort of model is best for this problem; making it easy to select the model to use"
   ]
  },
  {
   "cell_type": "markdown",
   "id": "9d6cbf4c-603b-4c84-bc21-6e6165432d68",
   "metadata": {},
   "source": [
    "#### Relationship between 'A' and 'C'"
   ]
  },
  {
   "cell_type": "code",
   "execution_count": 4,
   "id": "7df1686c-8041-4523-be07-7b4c6186b519",
   "metadata": {},
   "outputs": [
    {
     "data": {
      "image/png": "[encoded data removed]",
      "text/plain": [
       "<Figure size 432x288 with 1 Axes>"
      ]
     },
     "metadata": {},
     "output_type": "display_data"
    }
   ],
   "source": [
    "# using matplotlib to plot a scatter diagram of A and C\n",
    "C = np.array(df['C'])\n",
    "A = np.array(df['A'])\n",
    "plt.scatter(A, C)\n",
    "plt.xlabel('A')\n",
    "plt.ylabel('C')\n",
    "plt.show()"
   ]
  },
  {
   "cell_type": "markdown",
   "id": "e5b9e8d1-c13f-4873-932d-0f891d07743c",
   "metadata": {},
   "source": [
    "From the above graph, we could easily guess that there's a linear relationship between 'A' and 'C'."
   ]
  },
  {
   "cell_type": "markdown",
   "id": "6f5fe0e5-1f87-4da6-8e5e-1fef1d1b422e",
   "metadata": {},
   "source": [
    "#### Relationship between 'B' and 'C'"
   ]
  },
  {
   "cell_type": "code",
   "execution_count": 5,
   "id": "7eb03e1f-33d4-465c-b9aa-cd1e62b09587",
   "metadata": {},
   "outputs": [
    {
     "data": {
      "image/png": "[encoded data removed]",
      "text/plain": [
       "<Figure size 432x288 with 1 Axes>"
      ]
     },
     "metadata": {},
     "output_type": "display_data"
    }
   ],
   "source": [
    "# also making a scatter plot of B against C\n",
    "B = np.array(df['B'])\n",
    "plt.scatter(B, C)\n",
    "plt.xlabel('B')\n",
    "plt.ylabel('C')\n",
    "plt.show()"
   ]
  },
  {
   "cell_type": "markdown",
   "id": "4b51cdc5-043c-4b25-b750-0682ab5f63df",
   "metadata": {},
   "source": [
    "This one ins't as clear as the previous graph but we could still consider the above graph also as indicating a linear relationship between 'B' and 'C'"
   ]
  },
  {
   "cell_type": "markdown",
   "id": "448c4fb2-21d7-46f9-b428-5495b074ecd8",
   "metadata": {},
   "source": [
    "## The ML itself"
   ]
  },
  {
   "cell_type": "markdown",
   "id": "0d818e6e-52bb-4035-8c17-ab988d9c427b",
   "metadata": {},
   "source": [
    "Now that we have some insight from the data, we can now make an educated guess of the model/algorithm to use for this project.\n",
    "\n",
    "With all the observed linear relationship between the features and the label, it's not suprise our best bet would be to decide to use a linear regression model. The reason for the import at the top."
   ]
  },
  {
   "cell_type": "code",
   "execution_count": 6,
   "id": "53037758-c26b-4f5a-be67-c5e79750b6c0",
   "metadata": {},
   "outputs": [],
   "source": [
    "model = LinearRegression()"
   ]
  },
  {
   "cell_type": "markdown",
   "id": "fa231a9b-6279-42e4-b95e-4334da4a8a91",
   "metadata": {},
   "source": [
    "### Training vs Testing\n",
    "Not so fast. Hehe...\n",
    "\n",
    "We can't just train a model and leave it like that or just start using it after testing.\n",
    "Well, we could but it's a really bad thing to do.\n",
    "\n",
    "After training a model, the next step is to test your model. To do this, we need to split the data that we have into two parts: one for training and the other for testing the model. To do that, we use a function from the sklearn package imported earlier.\n",
    "(More reason most ML engineers use python.)"
   ]
  },
  {
   "cell_type": "code",
   "execution_count": 7,
   "id": "063798b9-a019-42e1-867a-2f5006391eb0",
   "metadata": {},
   "outputs": [],
   "source": [
    "X_train, X_test, y_train, y_test = train_test_split(X, y, test_size=0.1) \n",
    "# the test size is the fraction of the data to use for testing"
   ]
  },
  {
   "cell_type": "markdown",
   "id": "0ff23cf2-d60d-4e2c-88b6-2061de2a59c4",
   "metadata": {},
   "source": [
    "### Training\n",
    "Training is quite simple, actually. Now that we've split our data, we can now train our model with the training set"
   ]
  },
  {
   "cell_type": "code",
   "execution_count": 8,
   "id": "6329b1aa-7eb8-46b4-8ef3-77957768a3e2",
   "metadata": {},
   "outputs": [
    {
     "data": {
      "text/plain": [
       "LinearRegression()"
      ]
     },
     "execution_count": 8,
     "metadata": {},
     "output_type": "execute_result"
    }
   ],
   "source": [
    "# training\n",
    "model.fit(X_train, y_train)"
   ]
  },
  {
   "cell_type": "markdown",
   "id": "7cc089ed-3dd5-4c2f-974c-1677f2c2bcfb",
   "metadata": {},
   "source": [
    "### Testing\n",
    "After training, we test our model to see how it performs"
   ]
  },
  {
   "cell_type": "code",
   "execution_count": 9,
   "id": "b13d4056-b4e1-4c31-bc8a-73721d4ccc28",
   "metadata": {},
   "outputs": [
    {
     "data": {
      "text/plain": [
       "1.0"
      ]
     },
     "execution_count": 9,
     "metadata": {},
     "output_type": "execute_result"
    }
   ],
   "source": [
    "model.score(X_test, y_test)"
   ]
  },
  {
   "cell_type": "markdown",
   "id": "9135b172-bf4e-46d0-b833-7f324c356c9e",
   "metadata": {},
   "source": [
    "Now, our model is an ideal one, we've got a score of 1 out of 1. It's more like how accurate the model is.\n",
    "\n",
    "I do have to say that the data we used here is really far from the real world. It is a really simple one I created myself using a mathematical relation for the purpose of this project"
   ]
  },
  {
   "cell_type": "markdown",
   "id": "f8553330-f192-4b26-b60d-1c6c606b77bf",
   "metadata": {},
   "source": [
    "## Let's save our model\n",
    "\n",
    "We definately do not want to train our model every single time we want to use it to make a prediction. The training process will take time and a lot of computing data, to be realistic. For this reason, we have to save our trained models that we can use in the future.\n",
    "\n",
    "The python package, pickle, allows us to do that.\n",
    "We've already imported that at the top. Let's use it"
   ]
  },
  {
   "cell_type": "code",
   "execution_count": 10,
   "id": "700c58bb-c553-4dbf-be94-7f23c9d1c608",
   "metadata": {},
   "outputs": [],
   "source": [
    "with open(\"linear_regression_model.pickle\", \"wb\") as f:\n",
    "    pickle.dump(model, f)"
   ]
  },
  {
   "cell_type": "markdown",
   "id": "c07b180e-983f-40e9-a821-cb80a54069b2",
   "metadata": {},
   "source": [
    "### Loading the model\n",
    "\n",
    "We can now load back our saved model and use it for predictions"
   ]
  },
  {
   "cell_type": "code",
   "execution_count": 11,
   "id": "bf86f127-ad0a-43b2-9f6c-0a5380e3b9c3",
   "metadata": {},
   "outputs": [
    {
     "data": {
      "text/plain": [
       "array([1.5])"
      ]
     },
     "execution_count": 11,
     "metadata": {},
     "output_type": "execute_result"
    }
   ],
   "source": [
    "model_file = open(\"linear_regression_model.pickle\", \"rb\")\n",
    "loaded_model = pickle.load(model_file)\n",
    "\n",
    "loaded_model.predict(np.array([[0, 0]]))"
   ]
  },
  {
   "cell_type": "markdown",
   "id": "f60d3fac-b9b2-43e5-8a38-28ddc21806e3",
   "metadata": {},
   "source": [
    "### How do we know that this predicted value is right?\n",
    "\n",
    "Actually, we don't. It could be wrong (Our model lies?).\n",
    "But we could be confident based on the accuracy of our model."
   ]
  },
  {
   "cell_type": "markdown",
   "id": "eb273d5b-e038-4e2a-af2e-c85b6f608ce3",
   "metadata": {},
   "source": [
    "## The Data I used\n",
    "\n",
    "$$C=1.5+2A+B$$\n",
    "\n",
    "I created this dataset myself for this specific project using the above relation\n",
    "\n",
    "Oh look, our model was right after all:. When $A$ and $B$ are both 0, C is indeed $1.5$"
   ]
  }
 ],
 "metadata": {
  "kernelspec": {
   "display_name": "ML",
   "language": "python",
   "name": "ml"
  },
  "language_info": {
   "codemirror_mode": {
    "name": "ipython",
    "version": 3
   },
   "file_extension": ".py",
   "mimetype": "text/x-python",
   "name": "python",
   "nbconvert_exporter": "python",
   "pygments_lexer": "ipython3",
   "version": "3.8.8"
  }
 },
 "nbformat": 4,
 "nbformat_minor": 5
}
