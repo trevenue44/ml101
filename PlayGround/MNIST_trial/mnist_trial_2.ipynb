{
 "cells": [
  {
   "cell_type": "markdown",
   "id": "87e2eef4",
   "metadata": {},
   "source": [
    "# MNIST Trial 2: Creating shifted copies of the images and using them to train models"
   ]
  },
  {
   "cell_type": "code",
   "execution_count": 1,
   "id": "cc020709",
   "metadata": {},
   "outputs": [],
   "source": [
    "# loading the model\n",
    "from sklearn.datasets import fetch_openml\n",
    "MNIST = fetch_openml(\"mnist_784\", version=1, as_frame=False)"
   ]
  },
  {
   "cell_type": "code",
   "execution_count": 3,
   "id": "70acdc42",
   "metadata": {},
   "outputs": [
    {
     "data": {
      "text/plain": [
       "dict_keys(['data', 'target', 'frame', 'categories', 'feature_names', 'target_names', 'DESCR', 'details', 'url'])"
      ]
     },
     "execution_count": 3,
     "metadata": {},
     "output_type": "execute_result"
    }
   ],
   "source": [
    "MNIST.keys()"
   ]
  },
  {
   "cell_type": "code",
   "execution_count": 4,
   "id": "75ef6087",
   "metadata": {},
   "outputs": [],
   "source": [
    "X, y = MNIST['data'], MNIST['target']"
   ]
  },
  {
   "cell_type": "code",
   "execution_count": 5,
   "id": "5522af21",
   "metadata": {},
   "outputs": [],
   "source": [
    "import numpy as np"
   ]
  },
  {
   "cell_type": "code",
   "execution_count": 6,
   "id": "d6d3a1fb",
   "metadata": {},
   "outputs": [],
   "source": [
    "y = y.astype(np.uint8)"
   ]
  },
  {
   "cell_type": "code",
   "execution_count": 7,
   "id": "489f49ca",
   "metadata": {},
   "outputs": [],
   "source": [
    "X_train, X_test, y_train, y_test = X[:60_000], X[60_000:], y[:60_000], y[60_000:]"
   ]
  },
  {
   "cell_type": "markdown",
   "id": "d7052afc",
   "metadata": {},
   "source": [
    "## Creating a fucntion to shift the image"
   ]
  },
  {
   "cell_type": "code",
   "execution_count": 10,
   "id": "651d28ee",
   "metadata": {},
   "outputs": [],
   "source": [
    "from scipy.ndimage.interpolation import shift\n",
    "from matplotlib import pyplot as plt"
   ]
  },
  {
   "cell_type": "code",
   "execution_count": 9,
   "id": "55a39bfa",
   "metadata": {},
   "outputs": [],
   "source": [
    "some_digit = X_train[0]"
   ]
  },
  {
   "cell_type": "code",
   "execution_count": 11,
   "id": "41e193e9",
   "metadata": {},
   "outputs": [],
   "source": [
    "# a function to draw the digit\n",
    "def  draw_digit(digit):\n",
    "    digit_image = np.reshape(digit, (28, 28))\n",
    "    plt.imshow(digit_image, cmap='binary')\n",
    "    plt.show()"
   ]
  },
  {
   "cell_type": "code",
   "execution_count": 29,
   "id": "9617272b",
   "metadata": {},
   "outputs": [],
   "source": [
    "def make_shifts(digit, units_to_shift):\n",
    "    # function for making the shifts\n",
    "    digit_image = np.reshape(digit, (28, 28))\n",
    "    shifted_digit = shift(digit_image, units_to_shift)\n",
    "    return shifted_digit.reshape(784)"
   ]
  },
  {
   "cell_type": "code",
   "execution_count": 33,
   "id": "59425e7c",
   "metadata": {},
   "outputs": [],
   "source": [
    "# making the shifts\n",
    "X_train_shifted_right = np.apply_along_axis(make_shifts, 1, X_train, units_to_shift=[0, 1])\n",
    "X_train_shifted_left = np.apply_along_axis(make_shifts, 1, X_train, units_to_shift=[0, -1])\n",
    "X_train_shifted_down = np.apply_along_axis(make_shifts, 1, X_train, units_to_shift=[1, 0])\n",
    "X_train_shifted_up = np.apply_along_axis(make_shifts, 1, X_train, units_to_shift=[-1, 0])"
   ]
  },
  {
   "cell_type": "code",
   "execution_count": 37,
   "id": "91d6f51e",
   "metadata": {},
   "outputs": [],
   "source": [
    "# combining all the datasets\n",
    "X_train_updated = np.concatenate((X_train_shifted_right, \n",
    "                                  X_train_shifted_left, \n",
    "                                  X_train_shifted_down, \n",
    "                                  X_train_shifted_up), axis=0)\n",
    "y_train_updated = np.concatenate((y_train,\n",
    "                                  y_train,\n",
    "                                  y_train,\n",
    "                                  y_train), axis=0)"
   ]
  },
  {
   "cell_type": "markdown",
   "id": "c6bfc048",
   "metadata": {},
   "source": [
    "## Training Classifiers with the new dataset"
   ]
  },
  {
   "cell_type": "code",
   "execution_count": 44,
   "id": "6c40fa26",
   "metadata": {},
   "outputs": [],
   "source": [
    "import pickle\n",
    "\n",
    "def train_and_save_classifier(classifier_type, name, x, y, **kwargs):\n",
    "    # function for training and saving model\n",
    "    classifier =  classifier_type(**kwargs)\n",
    "    classifier.fit(x, y)\n",
    "    file_path = 'saved_models/saved_models_trial2/' + name + '.pkl'\n",
    "    with open(file_path, 'wb') as file:\n",
    "        pickle.dump(classifier, file)\n",
    "        \n",
    "def load_classifier(name):\n",
    "    # function for loading saved models\n",
    "    file_path = 'saved_models/saved_models_trial2/' + name + '.pkl'\n",
    "    with open(file_path, 'rb') as file:\n",
    "        model = pickle.load(file)\n",
    "    return model"
   ]
  },
  {
   "cell_type": "code",
   "execution_count": 45,
   "id": "cc92e31a",
   "metadata": {},
   "outputs": [],
   "source": [
    "from sklearn.metrics import confusion_matrix, precision_score, recall_score, f1_score, roc_auc_score\n",
    "from sklearn.model_selection import cross_val_predict, cross_val_score\n",
    "\n",
    "def evaluate_classifier(classifier, x, y, **kwargs):\n",
    "    # function for evaluating classifiers with some selected matrics\n",
    "    print(\"Accuracies: \", cross_val_score(classifier, x, y, cv=3, scoring=\"accuracy\"))\n",
    "    predicted_values = cross_val_predict(classifier, x, y, cv=3)\n",
    "    conf_matrix = confusion_matrix(y, predicted_values)\n",
    "    print(\"\\nConfusion Metrix: \")\n",
    "    print(conf_matrix)\n",
    "    \n",
    "    print(\"\\nPrecision Score: \", precision_score(y, predicted_values, **kwargs))\n",
    "    print(\"Recall Score: \", recall_score(y, predicted_values, **kwargs))\n",
    "    print(\"f1 Score: \", f1_score(y, predicted_values, **kwargs))\n",
    "    \n",
    "    print(\"\\nROC AUC Score: \", roc_auc_score(y, predicted_values, average=None))"
   ]
  },
  {
   "cell_type": "markdown",
   "id": "e018c52f",
   "metadata": {},
   "source": [
    "### SVM Classifier"
   ]
  },
  {
   "cell_type": "code",
   "execution_count": 43,
   "id": "f1449c19",
   "metadata": {},
   "outputs": [],
   "source": [
    "from sklearn.svm import SVC\n",
    "train_and_save_classifier(SVC, 'sv_classifier', X_train_updated, y_train_updated, random_state=42)"
   ]
  },
  {
   "cell_type": "markdown",
   "id": "28df5961",
   "metadata": {},
   "source": [
    "### Evaluation of SVM Classifier"
   ]
  },
  {
   "cell_type": "code",
   "execution_count": null,
   "id": "53671471",
   "metadata": {},
   "outputs": [],
   "source": [
    "# evaluation on the training set\n",
    "sv_classifier = load_classifier('sv_classifier')\n",
    "evaluate_classifier(sv_classifier, X_train_updated, y_train_updated, average=None)"
   ]
  },
  {
   "cell_type": "code",
   "execution_count": null,
   "id": "8c854db4",
   "metadata": {},
   "outputs": [],
   "source": []
  }
 ],
 "metadata": {
  "kernelspec": {
   "display_name": "ML",
   "language": "python",
   "name": "ml"
  },
  "language_info": {
   "codemirror_mode": {
    "name": "ipython",
    "version": 3
   },
   "file_extension": ".py",
   "mimetype": "text/x-python",
   "name": "python",
   "nbconvert_exporter": "python",
   "pygments_lexer": "ipython3",
   "version": "3.8.8"
  }
 },
 "nbformat": 4,
 "nbformat_minor": 5
}
