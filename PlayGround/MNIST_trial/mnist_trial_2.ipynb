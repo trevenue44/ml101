{
 "cells": [
  {
   "cell_type": "markdown",
   "id": "5eb6c829",
   "metadata": {},
   "source": [
    "# MNIST Trial 2: Creating shifted copies of the images and using them to train models"
   ]
  },
  {
   "cell_type": "code",
   "execution_count": 1,
   "id": "4406a94f",
   "metadata": {},
   "outputs": [],
   "source": [
    "# loading the model\n",
    "from sklearn.datasets import fetch_openml\n",
    "MNIST = fetch_openml(\"mnist_784\", version=1, as_frame=False)"
   ]
  },
  {
   "cell_type": "code",
   "execution_count": 3,
   "id": "9b54b002",
   "metadata": {},
   "outputs": [
    {
     "data": {
      "text/plain": [
       "dict_keys(['data', 'target', 'frame', 'categories', 'feature_names', 'target_names', 'DESCR', 'details', 'url'])"
      ]
     },
     "execution_count": 3,
     "metadata": {},
     "output_type": "execute_result"
    }
   ],
   "source": [
    "MNIST.keys()"
   ]
  },
  {
   "cell_type": "code",
   "execution_count": 4,
   "id": "62367d12",
   "metadata": {},
   "outputs": [],
   "source": [
    "X, y = MNIST['data'], MNIST['target']"
   ]
  },
  {
   "cell_type": "code",
   "execution_count": 5,
   "id": "2f453b41",
   "metadata": {},
   "outputs": [],
   "source": [
    "import numpy as np"
   ]
  },
  {
   "cell_type": "code",
   "execution_count": 6,
   "id": "b151a643",
   "metadata": {},
   "outputs": [],
   "source": [
    "y = y.astype(np.uint8)"
   ]
  },
  {
   "cell_type": "code",
   "execution_count": 7,
   "id": "bd892664",
   "metadata": {},
   "outputs": [],
   "source": [
    "X_train, X_test, y_train, y_test = X[:60_000], X[60_000:], y[:60_000], y[60_000:]"
   ]
  },
  {
   "cell_type": "markdown",
   "id": "bb8f13e3",
   "metadata": {},
   "source": [
    "## Creating a fucntion to shift the image"
   ]
  },
  {
   "cell_type": "code",
   "execution_count": 10,
   "id": "800fa563",
   "metadata": {},
   "outputs": [],
   "source": [
    "from scipy.ndimage.interpolation import shift\n",
    "from matplotlib import pyplot as plt"
   ]
  },
  {
   "cell_type": "code",
   "execution_count": 9,
   "id": "f4e2f2fc",
   "metadata": {},
   "outputs": [],
   "source": [
    "some_digit = X_train[0]"
   ]
  },
  {
   "cell_type": "code",
   "execution_count": 11,
   "id": "201346a1",
   "metadata": {},
   "outputs": [],
   "source": [
    "# a function to draw the digit\n",
    "def  draw_digit(digit):\n",
    "    digit_image = np.reshape(digit, (28, 28))\n",
    "    plt.imshow(digit_image, cmap='binary')\n",
    "    plt.show()"
   ]
  },
  {
   "cell_type": "code",
   "execution_count": 12,
   "id": "faa4fd79",
   "metadata": {},
   "outputs": [
    {
     "data": {
      "image/png": "[encoded data removed]",
      "text/plain": [
       "<Figure size 432x288 with 1 Axes>"
      ]
     },
     "metadata": {
      "needs_background": "light"
     },
     "output_type": "display_data"
    }
   ],
   "source": [
    "draw_digit(some_digit)"
   ]
  },
  {
   "cell_type": "code",
   "execution_count": 29,
   "id": "04e3a9b9",
   "metadata": {},
   "outputs": [],
   "source": [
    "def make_shifts(digit, units_to_shift):\n",
    "    # function for making the shifts\n",
    "    digit_image = np.reshape(digit, (28, 28))\n",
    "    shifted_digit = shift(digit_image, units_to_shift)\n",
    "    return shifted_digit.reshape(784)"
   ]
  },
  {
   "cell_type": "code",
   "execution_count": 33,
   "id": "126b5926",
   "metadata": {},
   "outputs": [],
   "source": [
    "# making the shifts\n",
    "X_train_shifted_right = np.apply_along_axis(make_shifts, 1, X_train, units_to_shift=[0, 1])\n",
    "X_train_shifted_left = np.apply_along_axis(make_shifts, 1, X_train, units_to_shift=[0, -1])\n",
    "X_train_shifted_down = np.apply_along_axis(make_shifts, 1, X_train, units_to_shift=[1, 0])\n",
    "X_train_shifted_up = np.apply_along_axis(make_shifts, 1, X_train, units_to_shift=[-1, 0])"
   ]
  },
  {
   "cell_type": "code",
   "execution_count": 37,
   "id": "c6be5c6f",
   "metadata": {},
   "outputs": [],
   "source": [
    "# combining all the datasets\n",
    "X_train_updated = np.concatenate((X_train_shifted_right, \n",
    "                                  X_train_shifted_left, \n",
    "                                  X_train_shifted_down, \n",
    "                                  X_train_shifted_up), axis=0)\n",
    "y_train_updated = np.concatenate((y_train,\n",
    "                                  y_train,\n",
    "                                  y_train,\n",
    "                                  y_train), axis=0)"
   ]
  },
  {
   "cell_type": "code",
   "execution_count": null,
   "id": "1e427596",
   "metadata": {},
   "outputs": [],
   "source": []
  }
 ],
 "metadata": {
  "kernelspec": {
   "display_name": "ML",
   "language": "python",
   "name": "ml"
  },
  "language_info": {
   "codemirror_mode": {
    "name": "ipython",
    "version": 3
   },
   "file_extension": ".py",
   "mimetype": "text/x-python",
   "name": "python",
   "nbconvert_exporter": "python",
   "pygments_lexer": "ipython3",
   "version": "3.8.8"
  }
 },
 "nbformat": 4,
 "nbformat_minor": 5
}
